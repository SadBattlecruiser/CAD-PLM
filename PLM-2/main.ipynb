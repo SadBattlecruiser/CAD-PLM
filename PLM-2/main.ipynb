{
 "cells": [
  {
   "cell_type": "code",
   "execution_count": 1,
   "metadata": {},
   "outputs": [],
   "source": [
    "import numpy as np\n",
    "import pandas as pd\n",
    "\n"
   ]
  },
  {
   "cell_type": "code",
   "execution_count": 76,
   "metadata": {},
   "outputs": [
    {
     "data": {
      "text/html": [
       "<div>\n",
       "<style scoped>\n",
       "    .dataframe tbody tr th:only-of-type {\n",
       "        vertical-align: middle;\n",
       "    }\n",
       "\n",
       "    .dataframe tbody tr th {\n",
       "        vertical-align: top;\n",
       "    }\n",
       "\n",
       "    .dataframe thead th {\n",
       "        text-align: right;\n",
       "    }\n",
       "</style>\n",
       "<table border=\"1\" class=\"dataframe\">\n",
       "  <thead>\n",
       "    <tr style=\"text-align: right;\">\n",
       "      <th></th>\n",
       "      <th>name</th>\n",
       "      <th>duration</th>\n",
       "      <th>prev</th>\n",
       "    </tr>\n",
       "  </thead>\n",
       "  <tbody>\n",
       "    <tr>\n",
       "      <th>0</th>\n",
       "      <td>w0</td>\n",
       "      <td>15</td>\n",
       "      <td>-</td>\n",
       "    </tr>\n",
       "    <tr>\n",
       "      <th>1</th>\n",
       "      <td>w1</td>\n",
       "      <td>9</td>\n",
       "      <td>-</td>\n",
       "    </tr>\n",
       "    <tr>\n",
       "      <th>2</th>\n",
       "      <td>w2</td>\n",
       "      <td>12</td>\n",
       "      <td>-</td>\n",
       "    </tr>\n",
       "    <tr>\n",
       "      <th>3</th>\n",
       "      <td>w3</td>\n",
       "      <td>11</td>\n",
       "      <td>0 1</td>\n",
       "    </tr>\n",
       "    <tr>\n",
       "      <th>4</th>\n",
       "      <td>w4</td>\n",
       "      <td>17</td>\n",
       "      <td>0 1</td>\n",
       "    </tr>\n",
       "    <tr>\n",
       "      <th>5</th>\n",
       "      <td>w5</td>\n",
       "      <td>6</td>\n",
       "      <td>0</td>\n",
       "    </tr>\n",
       "    <tr>\n",
       "      <th>6</th>\n",
       "      <td>w6</td>\n",
       "      <td>16</td>\n",
       "      <td>3 4 5</td>\n",
       "    </tr>\n",
       "    <tr>\n",
       "      <th>7</th>\n",
       "      <td>w7</td>\n",
       "      <td>16</td>\n",
       "      <td>4 5 2</td>\n",
       "    </tr>\n",
       "    <tr>\n",
       "      <th>8</th>\n",
       "      <td>w8</td>\n",
       "      <td>10</td>\n",
       "      <td>6 7</td>\n",
       "    </tr>\n",
       "    <tr>\n",
       "      <th>9</th>\n",
       "      <td>w9</td>\n",
       "      <td>5</td>\n",
       "      <td>7</td>\n",
       "    </tr>\n",
       "  </tbody>\n",
       "</table>\n",
       "</div>"
      ],
      "text/plain": [
       "  name  duration   prev\n",
       "0   w0        15      -\n",
       "1   w1         9      -\n",
       "2   w2        12      -\n",
       "3   w3        11    0 1\n",
       "4   w4        17    0 1\n",
       "5   w5         6      0\n",
       "6   w6        16  3 4 5\n",
       "7   w7        16  4 5 2\n",
       "8   w8        10    6 7\n",
       "9   w9         5      7"
      ]
     },
     "execution_count": 76,
     "metadata": {},
     "output_type": "execute_result"
    }
   ],
   "source": [
    "# Считываем входные данные\n",
    "data = pd.read_csv('input.csv', skipinitialspace=True)\n",
    "data['prev'] = data['prev'].fillna(value='-')\n",
    "data"
   ]
  },
  {
   "cell_type": "code",
   "execution_count": 71,
   "metadata": {},
   "outputs": [
    {
     "name": "stdout",
     "output_type": "stream",
     "text": [
      "Входные вершины: [1, 3, 5]\n",
      "Выходные вершины: [18, 20]\n"
     ]
    }
   ],
   "source": [
    "# Листы, куда будем складывать входные и выходные точки\n",
    "inputs_list = []\n",
    "outputs_list = []\n",
    "\n",
    "# Формируем граф в виде матрицы смежности\n",
    "# Где нет ребра, там -1\n",
    "# Нулевая вершина - начало, последняя - конец\n",
    "# Для i-й работы начало - 2i+1, конец 2i+2\n",
    "adj_matr = np.full([data.shape[0]*2 + 2, data.shape[0]*2 + 2], -1)\n",
    "for idx, [name, duration, prev_str] in data.iterrows():\n",
    "    # Работа - ребро между своим началом и концом\n",
    "    adj_matr[idx*2+1, idx*2+2] = duration\n",
    "    # Если нет предыдущих, то это начало работы - вход\n",
    "    if prev_str == '-':\n",
    "        inputs_list.append(idx*2+1)\n",
    "        adj_matr[0, idx*2+1] = 0;\n",
    "    # Иначе связываем концы предыдущих работ с началом этой\n",
    "    else:\n",
    "        for i_str in prev_str.split():\n",
    "            i = int(i_str)\n",
    "            adj_matr[i*2+2, idx*2+1] = 0\n",
    "            \n",
    "# Проходимся по концам работ, если нет дуги - это выход\n",
    "for idx in range(1, data.shape[0]):\n",
    "    if np.all(adj_matr[idx*2+2] == -1):\n",
    "        outputs_list.append(idx*2+2)\n",
    "        adj_matr[idx*2+2, -1] = 0;\n",
    "        \n",
    "print('Входные вершины:', inputs_list)\n",
    "print('Выходные вершины:', outputs_list)"
   ]
  },
  {
   "cell_type": "code",
   "execution_count": 72,
   "metadata": {
    "scrolled": true
   },
   "outputs": [
    {
     "name": "stdout",
     "output_type": "stream",
     "text": [
      "[[-1  0 -1  0 -1  0 -1 -1 -1 -1 -1 -1 -1 -1 -1 -1 -1 -1 -1 -1 -1 -1]\n",
      " [-1 -1 15 -1 -1 -1 -1 -1 -1 -1 -1 -1 -1 -1 -1 -1 -1 -1 -1 -1 -1 -1]\n",
      " [-1 -1 -1 -1 -1 -1 -1  0 -1  0 -1  0 -1 -1 -1 -1 -1 -1 -1 -1 -1 -1]\n",
      " [-1 -1 -1 -1  9 -1 -1 -1 -1 -1 -1 -1 -1 -1 -1 -1 -1 -1 -1 -1 -1 -1]\n",
      " [-1 -1 -1 -1 -1 -1 -1  0 -1  0 -1 -1 -1 -1 -1 -1 -1 -1 -1 -1 -1 -1]\n",
      " [-1 -1 -1 -1 -1 -1 12 -1 -1 -1 -1 -1 -1 -1 -1 -1 -1 -1 -1 -1 -1 -1]\n",
      " [-1 -1 -1 -1 -1 -1 -1 -1 -1 -1 -1 -1 -1 -1 -1  0 -1 -1 -1 -1 -1 -1]\n",
      " [-1 -1 -1 -1 -1 -1 -1 -1 11 -1 -1 -1 -1 -1 -1 -1 -1 -1 -1 -1 -1 -1]\n",
      " [-1 -1 -1 -1 -1 -1 -1 -1 -1 -1 -1 -1 -1  0 -1 -1 -1 -1 -1 -1 -1 -1]\n",
      " [-1 -1 -1 -1 -1 -1 -1 -1 -1 -1 17 -1 -1 -1 -1 -1 -1 -1 -1 -1 -1 -1]\n",
      " [-1 -1 -1 -1 -1 -1 -1 -1 -1 -1 -1 -1 -1  0 -1  0 -1 -1 -1 -1 -1 -1]\n",
      " [-1 -1 -1 -1 -1 -1 -1 -1 -1 -1 -1 -1  6 -1 -1 -1 -1 -1 -1 -1 -1 -1]\n",
      " [-1 -1 -1 -1 -1 -1 -1 -1 -1 -1 -1 -1 -1  0 -1  0 -1 -1 -1 -1 -1 -1]\n",
      " [-1 -1 -1 -1 -1 -1 -1 -1 -1 -1 -1 -1 -1 -1 16 -1 -1 -1 -1 -1 -1 -1]\n",
      " [-1 -1 -1 -1 -1 -1 -1 -1 -1 -1 -1 -1 -1 -1 -1 -1 -1  0 -1 -1 -1 -1]\n",
      " [-1 -1 -1 -1 -1 -1 -1 -1 -1 -1 -1 -1 -1 -1 -1 -1 16 -1 -1 -1 -1 -1]\n",
      " [-1 -1 -1 -1 -1 -1 -1 -1 -1 -1 -1 -1 -1 -1 -1 -1 -1  0 -1  0 -1 -1]\n",
      " [-1 -1 -1 -1 -1 -1 -1 -1 -1 -1 -1 -1 -1 -1 -1 -1 -1 -1 10 -1 -1 -1]\n",
      " [-1 -1 -1 -1 -1 -1 -1 -1 -1 -1 -1 -1 -1 -1 -1 -1 -1 -1 -1 -1 -1  0]\n",
      " [-1 -1 -1 -1 -1 -1 -1 -1 -1 -1 -1 -1 -1 -1 -1 -1 -1 -1 -1 -1  5 -1]\n",
      " [-1 -1 -1 -1 -1 -1 -1 -1 -1 -1 -1 -1 -1 -1 -1 -1 -1 -1 -1 -1 -1  0]\n",
      " [-1 -1 -1 -1 -1 -1 -1 -1 -1 -1 -1 -1 -1 -1 -1 -1 -1 -1 -1 -1 -1 -1]]\n"
     ]
    }
   ],
   "source": [
    "print(adj_matr)"
   ]
  },
  {
   "cell_type": "code",
   "execution_count": 77,
   "metadata": {
    "scrolled": true
   },
   "outputs": [
    {
     "name": "stdout",
     "output_type": "stream",
     "text": [
      "[ 0  0 15  0  9  0 12 15 26 15 32 15 21 32 48 32 48 48 58 48 53 58]\n"
     ]
    }
   ],
   "source": [
    "# К этому моменту граф должен быть топологически отсортирован\n",
    "# Т.е. все дуги выходят из вершин с меньшими индексами\n",
    "# И входят в вершины с большими\n",
    "\n",
    "\n",
    "# Проходим от начала до конца, находим максимальные пути\n",
    "distances = np.full(data.shape[0]*2 + 2, -1)\n",
    "distances[0] = 0;\n",
    "# Смотрим по очереди все вершины\n",
    "for i in range(data.shape[0]*2 + 2):\n",
    "    # Путь до текущей берем как максимальную сумму\n",
    "    # предыдущего пути + ребра\n",
    "    for j in range(i):\n",
    "        if (adj_matr[j, i] != -1) and (distances[j] + adj_matr[j, i] > distances[i]):\n",
    "            distances[i] = distances[j] + adj_matr[j, i]\n",
    "\n",
    "# dist_forward_df = pd.DataFrame({'vertex' : range(distances.shape[0]), 'max distance' : distances})\n",
    "# dist_forward_df['max distance']\n",
    "print(distances)"
   ]
  },
  {
   "cell_type": "code",
   "execution_count": 78,
   "metadata": {},
   "outputs": [
    {
     "name": "stdout",
     "output_type": "stream",
     "text": [
      "[ 0  0 15  6 15 20 32 21 32 15 32 26 32 32 48 32 48 48 58 53 58 58]\n"
     ]
    }
   ],
   "source": [
    "# Проходим из конца в начало\n",
    "# Смотрим по очереди все вершины\n",
    "distances_b = np.full(data.shape[0]*2 + 2, distances[-1])\n",
    "for i in reversed(range(data.shape[0]*2 + 2)):\n",
    "    # Путь до текущей берем как минимум\n",
    "    # предыдущего пути и ребра\n",
    "    for j in range(i, data.shape[0]*2 + 2):\n",
    "        if (adj_matr[i, j] != -1) and (distances[j] - adj_matr[i, j] < distances_b[i]):\n",
    "            distances_b[i] = distances_b[j] - adj_matr[i, j]\n",
    "            \n",
    "# dist_backward_df = pd.DataFrame({'vertex' : range(distances_b.shape[0]), 'max distance' : distances_b})\n",
    "# dist_backward_df['max distance']\n",
    "print(distances_b)"
   ]
  },
  {
   "cell_type": "code",
   "execution_count": 74,
   "metadata": {},
   "outputs": [
    {
     "data": {
      "text/html": [
       "<div>\n",
       "<style scoped>\n",
       "    .dataframe tbody tr th:only-of-type {\n",
       "        vertical-align: middle;\n",
       "    }\n",
       "\n",
       "    .dataframe tbody tr th {\n",
       "        vertical-align: top;\n",
       "    }\n",
       "\n",
       "    .dataframe thead th {\n",
       "        text-align: right;\n",
       "    }\n",
       "</style>\n",
       "<table border=\"1\" class=\"dataframe\">\n",
       "  <thead>\n",
       "    <tr style=\"text-align: right;\">\n",
       "      <th></th>\n",
       "      <th>name</th>\n",
       "      <th>duration</th>\n",
       "      <th>early start</th>\n",
       "      <th>late start</th>\n",
       "      <th>early finish</th>\n",
       "      <th>late finish</th>\n",
       "      <th>time margin</th>\n",
       "    </tr>\n",
       "  </thead>\n",
       "  <tbody>\n",
       "    <tr>\n",
       "      <th>0</th>\n",
       "      <td>w0</td>\n",
       "      <td>15</td>\n",
       "      <td>0</td>\n",
       "      <td>0</td>\n",
       "      <td>15</td>\n",
       "      <td>15</td>\n",
       "      <td>0</td>\n",
       "    </tr>\n",
       "    <tr>\n",
       "      <th>1</th>\n",
       "      <td>w1</td>\n",
       "      <td>9</td>\n",
       "      <td>0</td>\n",
       "      <td>6</td>\n",
       "      <td>9</td>\n",
       "      <td>15</td>\n",
       "      <td>6</td>\n",
       "    </tr>\n",
       "    <tr>\n",
       "      <th>2</th>\n",
       "      <td>w2</td>\n",
       "      <td>12</td>\n",
       "      <td>0</td>\n",
       "      <td>20</td>\n",
       "      <td>12</td>\n",
       "      <td>32</td>\n",
       "      <td>20</td>\n",
       "    </tr>\n",
       "    <tr>\n",
       "      <th>3</th>\n",
       "      <td>w3</td>\n",
       "      <td>11</td>\n",
       "      <td>15</td>\n",
       "      <td>21</td>\n",
       "      <td>26</td>\n",
       "      <td>32</td>\n",
       "      <td>6</td>\n",
       "    </tr>\n",
       "    <tr>\n",
       "      <th>4</th>\n",
       "      <td>w4</td>\n",
       "      <td>17</td>\n",
       "      <td>15</td>\n",
       "      <td>15</td>\n",
       "      <td>32</td>\n",
       "      <td>32</td>\n",
       "      <td>0</td>\n",
       "    </tr>\n",
       "    <tr>\n",
       "      <th>5</th>\n",
       "      <td>w5</td>\n",
       "      <td>6</td>\n",
       "      <td>15</td>\n",
       "      <td>26</td>\n",
       "      <td>21</td>\n",
       "      <td>32</td>\n",
       "      <td>11</td>\n",
       "    </tr>\n",
       "    <tr>\n",
       "      <th>6</th>\n",
       "      <td>w6</td>\n",
       "      <td>16</td>\n",
       "      <td>32</td>\n",
       "      <td>32</td>\n",
       "      <td>48</td>\n",
       "      <td>48</td>\n",
       "      <td>0</td>\n",
       "    </tr>\n",
       "    <tr>\n",
       "      <th>7</th>\n",
       "      <td>w7</td>\n",
       "      <td>16</td>\n",
       "      <td>32</td>\n",
       "      <td>32</td>\n",
       "      <td>48</td>\n",
       "      <td>48</td>\n",
       "      <td>0</td>\n",
       "    </tr>\n",
       "    <tr>\n",
       "      <th>8</th>\n",
       "      <td>w8</td>\n",
       "      <td>10</td>\n",
       "      <td>48</td>\n",
       "      <td>48</td>\n",
       "      <td>58</td>\n",
       "      <td>58</td>\n",
       "      <td>0</td>\n",
       "    </tr>\n",
       "    <tr>\n",
       "      <th>9</th>\n",
       "      <td>w9</td>\n",
       "      <td>5</td>\n",
       "      <td>48</td>\n",
       "      <td>53</td>\n",
       "      <td>53</td>\n",
       "      <td>58</td>\n",
       "      <td>5</td>\n",
       "    </tr>\n",
       "  </tbody>\n",
       "</table>\n",
       "</div>"
      ],
      "text/plain": [
       "  name  duration  early start  late start  early finish  late finish  \\\n",
       "0   w0        15            0           0            15           15   \n",
       "1   w1         9            0           6             9           15   \n",
       "2   w2        12            0          20            12           32   \n",
       "3   w3        11           15          21            26           32   \n",
       "4   w4        17           15          15            32           32   \n",
       "5   w5         6           15          26            21           32   \n",
       "6   w6        16           32          32            48           48   \n",
       "7   w7        16           32          32            48           48   \n",
       "8   w8        10           48          48            58           58   \n",
       "9   w9         5           48          53            53           58   \n",
       "\n",
       "   time margin  \n",
       "0            0  \n",
       "1            6  \n",
       "2           20  \n",
       "3            6  \n",
       "4            0  \n",
       "5           11  \n",
       "6            0  \n",
       "7            0  \n",
       "8            0  \n",
       "9            5  "
      ]
     },
     "execution_count": 74,
     "metadata": {},
     "output_type": "execute_result"
    }
   ],
   "source": [
    "# Выходные данные\n",
    "e_sf = distances[1: -1].reshape([data.shape[0], 2])\n",
    "l_sf = distances_b[1: -1].reshape([data.shape[0], 2])\n",
    "\n",
    "out = pd.DataFrame({'name' : data['name'],\n",
    "                    'duration' : data['duration'],\n",
    "                    'early start' : e_sf[:, 0],\n",
    "                    'late start' : l_sf[:, 0],\n",
    "                    'early finish' : e_sf[:, 1],\n",
    "                    'late finish' : l_sf[:, 1],\n",
    "                    'time margin' : l_sf[:, 0] - e_sf[:, 0]})\n",
    "\n",
    "out.to_csv('out.csv', index=False)\n",
    "out"
   ]
  },
  {
   "cell_type": "code",
   "execution_count": 75,
   "metadata": {},
   "outputs": [
    {
     "data": {
      "text/html": [
       "<div>\n",
       "<style scoped>\n",
       "    .dataframe tbody tr th:only-of-type {\n",
       "        vertical-align: middle;\n",
       "    }\n",
       "\n",
       "    .dataframe tbody tr th {\n",
       "        vertical-align: top;\n",
       "    }\n",
       "\n",
       "    .dataframe thead th {\n",
       "        text-align: right;\n",
       "    }\n",
       "</style>\n",
       "<table border=\"1\" class=\"dataframe\">\n",
       "  <thead>\n",
       "    <tr style=\"text-align: right;\">\n",
       "      <th></th>\n",
       "      <th>name</th>\n",
       "      <th>duration</th>\n",
       "      <th>start</th>\n",
       "      <th>finish</th>\n",
       "    </tr>\n",
       "  </thead>\n",
       "  <tbody>\n",
       "    <tr>\n",
       "      <th>0</th>\n",
       "      <td>w0</td>\n",
       "      <td>15</td>\n",
       "      <td>0</td>\n",
       "      <td>15</td>\n",
       "    </tr>\n",
       "    <tr>\n",
       "      <th>4</th>\n",
       "      <td>w4</td>\n",
       "      <td>17</td>\n",
       "      <td>15</td>\n",
       "      <td>32</td>\n",
       "    </tr>\n",
       "    <tr>\n",
       "      <th>6</th>\n",
       "      <td>w6</td>\n",
       "      <td>16</td>\n",
       "      <td>32</td>\n",
       "      <td>48</td>\n",
       "    </tr>\n",
       "    <tr>\n",
       "      <th>7</th>\n",
       "      <td>w7</td>\n",
       "      <td>16</td>\n",
       "      <td>32</td>\n",
       "      <td>48</td>\n",
       "    </tr>\n",
       "    <tr>\n",
       "      <th>8</th>\n",
       "      <td>w8</td>\n",
       "      <td>10</td>\n",
       "      <td>48</td>\n",
       "      <td>58</td>\n",
       "    </tr>\n",
       "  </tbody>\n",
       "</table>\n",
       "</div>"
      ],
      "text/plain": [
       "  name  duration  start  finish\n",
       "0   w0        15      0      15\n",
       "4   w4        17     15      32\n",
       "6   w6        16     32      48\n",
       "7   w7        16     32      48\n",
       "8   w8        10     48      58"
      ]
     },
     "execution_count": 75,
     "metadata": {},
     "output_type": "execute_result"
    }
   ],
   "source": [
    "# Критический путь\n",
    "crit_path_full = out[out['early start'] == out['late start']]\n",
    "crit_path = pd.DataFrame({'name' : crit_path_full['name'],\n",
    "                          'duration' : crit_path_full['duration'],\n",
    "                          'start' : crit_path_full['early start'],\n",
    "                          'finish' : crit_path_full['early finish']})\n",
    "\n",
    "crit_path.to_csv('crit_path.csv', index=False)\n",
    "crit_path"
   ]
  },
  {
   "cell_type": "code",
   "execution_count": null,
   "metadata": {},
   "outputs": [],
   "source": []
  },
  {
   "cell_type": "code",
   "execution_count": null,
   "metadata": {},
   "outputs": [],
   "source": []
  },
  {
   "cell_type": "code",
   "execution_count": null,
   "metadata": {},
   "outputs": [],
   "source": []
  },
  {
   "cell_type": "code",
   "execution_count": null,
   "metadata": {},
   "outputs": [],
   "source": []
  },
  {
   "cell_type": "code",
   "execution_count": 36,
   "metadata": {},
   "outputs": [
    {
     "data": {
      "text/plain": [
       "{0: array([15]),\n",
       " 1: array([0, 0, 0]),\n",
       " 2: array([9]),\n",
       " 3: array([0, 0]),\n",
       " 4: array([12]),\n",
       " 5: array([0]),\n",
       " 6: array([11]),\n",
       " 7: array([0]),\n",
       " 8: array([17]),\n",
       " 9: array([0, 0]),\n",
       " 10: array([6]),\n",
       " 11: array([0, 0]),\n",
       " 12: array([16]),\n",
       " 13: array([0]),\n",
       " 14: array([16]),\n",
       " 15: array([0, 0]),\n",
       " 16: array([10,  0]),\n",
       " 17: array([], dtype=int32),\n",
       " 18: array([5, 0]),\n",
       " 19: array([], dtype=int32),\n",
       " 20: array([], dtype=int32),\n",
       " 21: array([0, 0, 0])}"
      ]
     },
     "execution_count": 36,
     "metadata": {},
     "output_type": "execute_result"
    }
   ],
   "source": [
    "# Теперь обход вширь от начала до конца\n",
    "# Находим ранние начала и окончания\n",
    "\n",
    "# Формируем список смежности\n",
    "adj_list = {}\n",
    "for idx, row in enumerate(adj_matr):\n",
    "    adj_list[idx] = row[row != -1]\n",
    "    \n",
    "adj_list"
   ]
  },
  {
   "cell_type": "code",
   "execution_count": 37,
   "metadata": {},
   "outputs": [
    {
     "data": {
      "text/plain": [
       "array([-1, -1, -1, -1, -1, -1, -1, -1, -1, -1, -1, -1, -1, -1, -1, -1, -1,\n",
       "       -1, -1, -1, -1, -1])"
      ]
     },
     "execution_count": 37,
     "metadata": {},
     "output_type": "execute_result"
    }
   ],
   "source": [
    "# Сам обход\n",
    "\n",
    "dist = np.full(adj_matr.shape[0], -1)\n",
    "beg_idx = adj_matr.shape[0] - 1\n",
    "dist[beg_idx] = 0\n",
    "queue = [beg_idx]\n",
    "while queue:\n",
    "    curr = queue.pop()\n",
    "    for to in adj_list[curr]:\n",
    "        if dist[to] == -1:\n",
    "            queue.append(to)\n",
    "            dist[to] == dist[curr] + 1"
   ]
  },
  {
   "cell_type": "code",
   "execution_count": 23,
   "metadata": {},
   "outputs": [
    {
     "data": {
      "image/png": "[encoded data removed]",
      "text/plain": [
       "<Figure size 432x288 with 1 Axes>"
      ]
     },
     "metadata": {},
     "output_type": "display_data"
    }
   ],
   "source": [
    "# Визаулизируем граф\n",
    "\n",
    "import networkx as nx\n",
    "\n",
    "vis_graph = nx.from_numpy_matrix(adj_matr)\n",
    "nx.draw(vis_graph)"
   ]
  },
  {
   "cell_type": "code",
   "execution_count": null,
   "metadata": {},
   "outputs": [],
   "source": []
  }
 ],
 "metadata": {
  "kernelspec": {
   "display_name": "Python 3",
   "language": "python",
   "name": "python3"
  },
  "language_info": {
   "codemirror_mode": {
    "name": "ipython",
    "version": 3
   },
   "file_extension": ".py",
   "mimetype": "text/x-python",
   "name": "python",
   "nbconvert_exporter": "python",
   "pygments_lexer": "ipython3",
   "version": "3.7.2"
  }
 },
 "nbformat": 4,
 "nbformat_minor": 4
}
